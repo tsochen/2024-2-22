{
 "cells": [
  {
   "cell_type": "code",
   "execution_count": null,
   "metadata": {},
   "outputs": [],
   "source": [
    "file = open('names.txt',encoding='utf8')\n",
    "display(file.read())\n",
    "file.close()\n",
    "file.closed"
   ]
  },
  {
   "cell_type": "code",
   "execution_count": null,
   "metadata": {},
   "outputs": [],
   "source": [
    "with open('names.txt',encoding='utf8') as file:\n",
    "    display(file.read())\n",
    "\n",
    "file.closed"
   ]
  },
  {
   "cell_type": "code",
   "execution_count": null,
   "metadata": {},
   "outputs": [],
   "source": [
    "import random\n",
    "\n",
    "with open('names.txt',encoding='utf8') as file:\n",
    "    content:str = file.read()\n",
    "    names:list[str] = content.split(sep='\\n')\n",
    "    random_name:list[str] = random.choices(names,k=5)\n",
    "    print(random_name)"
   ]
  },
  {
   "cell_type": "code",
   "execution_count": null,
   "metadata": {},
   "outputs": [],
   "source": [
    "n = 5\n",
    "m = 10\n",
    "\n",
    "print(f'n={n}, m={m}')"
   ]
  },
  {
   "cell_type": "code",
   "execution_count": null,
   "metadata": {},
   "outputs": [],
   "source": [
    "n = 5\n",
    "m = 10\n",
    "\n",
    "print('n={0}, m={1}'.format(n,m))"
   ]
  },
  {
   "cell_type": "code",
   "execution_count": null,
   "metadata": {},
   "outputs": [],
   "source": [
    "import random\n",
    "\n",
    "def get_names(nums:int = 5) -> list[str]:\n",
    "    with open('names.txt',encoding='utf8') as file:\n",
    "        content:str = file.read()\n",
    "        names:list[str] = content.split(sep='\\n')\n",
    "        random_names:list[str] = random.choices(names,k=nums)\n",
    "    return random_names"
   ]
  },
  {
   "cell_type": "code",
   "execution_count": null,
   "metadata": {},
   "outputs": [],
   "source": [
    "names:list[str] = get_names(nums=10)\n",
    "import random\n",
    "from pprint import pprint\n",
    "def get_scores(names:list[str]) -> list[dict]:\n",
    "    stus:list[dict] = []\n",
    "    for name in names:\n",
    "        stu:dict[str:any] = {}\n",
    "        stu[\"name\"] = name\n",
    "        stu[\"chinese\"] = random.randint(50,100)\n",
    "        stu[\"english\"] = random.randint(50,100)\n",
    "        stu[\"math\"] = random.randint(50,100)\n",
    "        stus.append(stu)\n",
    "    return stus"
   ]
  },
  {
   "cell_type": "code",
   "execution_count": null,
   "metadata": {},
   "outputs": [],
   "source": [
    "names:list[str] = get_names(nums=10)\n",
    "scores:list[dict] = get_scores(names)\n",
    "scores"
   ]
  },
  {
   "cell_type": "code",
   "execution_count": null,
   "metadata": {},
   "outputs": [],
   "source": [
    "import csv\n",
    "\n",
    "with open('class1.csv',mode='w',encoding='utf-8',newline='') as file:\n",
    "    dictWriter = csv.DictWriter(file,fieldnames=['name','chinese','english','math'])\n",
    "    dictWriter.writeheader()\n",
    "    dictWriter.writerows(scores)"
   ]
  }
 ],
 "metadata": {
  "language_info": {
   "name": "python"
  }
 },
 "nbformat": 4,
 "nbformat_minor": 2
}
