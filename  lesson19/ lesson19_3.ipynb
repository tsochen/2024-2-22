{
 "cells": [
  {
   "cell_type": "code",
   "execution_count": 1,
   "metadata": {},
   "outputs": [
    {
     "data": {
      "text/plain": [
       "['/workspaces/2024-2-22/ lesson19/stations/每日各站進出站人數2020.csv',\n",
       " '/workspaces/2024-2-22/ lesson19/stations/每日各站進出站人數20190423-20191231.csv',\n",
       " '/workspaces/2024-2-22/ lesson19/stations/每日各站進出站人數2023.csv',\n",
       " '/workspaces/2024-2-22/ lesson19/stations/每日各站進出站人數2021.csv',\n",
       " '/workspaces/2024-2-22/ lesson19/stations/每日各站進出站人數2022.csv']"
      ]
     },
     "execution_count": 1,
     "metadata": {},
     "output_type": "execute_result"
    }
   ],
   "source": [
    "import os\n",
    "file_names:list[str] = os.listdir('stations')\n",
    "abs_paths:list[str] = []\n",
    "for name in file_names:\n",
    "    if '每日各站進出站人數' in name:\n",
    "        abs_paths.append(os.path.abspath(f'stations/{name}'))\n",
    "    \n",
    "abs_paths"
   ]
  }
 ],
 "metadata": {
  "kernelspec": {
   "display_name": "Python 3",
   "language": "python",
   "name": "python3"
  },
  "language_info": {
   "codemirror_mode": {
    "name": "ipython",
    "version": 3
   },
   "file_extension": ".py",
   "mimetype": "text/x-python",
   "name": "python",
   "nbconvert_exporter": "python",
   "pygments_lexer": "ipython3",
   "version": "3.10.13"
  }
 },
 "nbformat": 4,
 "nbformat_minor": 2
}
