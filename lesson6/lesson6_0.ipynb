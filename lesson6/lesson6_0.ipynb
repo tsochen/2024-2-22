{
 "cells": [
  {
   "cell_type": "code",
   "execution_count": 1,
   "metadata": {},
   "outputs": [
    {
     "name": "stdout",
     "output_type": "stream",
     "text": [
      "5的因數為:\n",
      "1,5,"
     ]
    }
   ],
   "source": [
    "try: \n",
    "    x = int(input('請輸入整數:'))\n",
    "    print(f'{x}的因數為:')\n",
    "    \n",
    "    for i in range(1,x+1):\n",
    "        if x % i == 0:\n",
    "            print(f'{i}',end=',')\n",
    "        \n",
    "except:\n",
    "    print('format error')\n"
   ]
  },
  {
   "cell_type": "code",
   "execution_count": 3,
   "metadata": {},
   "outputs": [
    {
     "name": "stdout",
     "output_type": "stream",
     "text": [
      "5的因數為:\n",
      "1,5\n"
     ]
    }
   ],
   "source": [
    "\n",
    "try: \n",
    "    x = int(input('請輸入整數:'))\n",
    "    print(f'{x}的因數為:')    \n",
    "    is_list = []\n",
    "    for i in range(1,x+1):\n",
    "        if x % i == 0:\n",
    "            is_list.append(str(i))\n",
    "    \n",
    "    print(','.join(is_list))\n",
    "    \n",
    "        \n",
    "except:\n",
    "    print('format error')\n"
   ]
  }
 ],
 "metadata": {
  "kernelspec": {
   "display_name": "Python 3",
   "language": "python",
   "name": "python3"
  },
  "language_info": {
   "codemirror_mode": {
    "name": "ipython",
    "version": 3
   },
   "file_extension": ".py",
   "mimetype": "text/x-python",
   "name": "python",
   "nbconvert_exporter": "python",
   "pygments_lexer": "ipython3",
   "version": "3.10.13"
  }
 },
 "nbformat": 4,
 "nbformat_minor": 2
}
