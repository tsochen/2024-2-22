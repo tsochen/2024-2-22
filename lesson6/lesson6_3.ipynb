{
 "cells": [
  {
   "cell_type": "code",
   "execution_count": 2,
   "metadata": {},
   "outputs": [
    {
     "name": "stdout",
     "output_type": "stream",
     "text": [
      "========猜數字遊戲=========\n",
      "\n",
      "581\n",
      "猜數字範圍1~1000猜錯了!\n",
      "猜數字範圍1~1000賓果!猜對了, 答案是:581\n",
      "遊戲結束!\n"
     ]
    }
   ],
   "source": [
    "import random\n",
    "import pyinputplus as pyip\n",
    "min = 1\n",
    "max = 100\n",
    "target = random.randint(min,max)\n",
    "print(\"========猜數字遊戲=========\\n\")\n",
    "print(target)\n",
    "while(True):\n",
    "    keyin = pyip.inputInt(f\"猜數字範圍{min}~{max}\",min=min,max=max)\n",
    "    if keyin == target:\n",
    "        print(f'賓果!猜對了, 答案是:{target}')\n",
    "        break\n",
    "    else:\n",
    "        print('猜錯了!')\n",
    "print(\"遊戲結束!\")   "
   ]
  }
 ],
 "metadata": {
  "kernelspec": {
   "display_name": "Python 3",
   "language": "python",
   "name": "python3"
  },
  "language_info": {
   "codemirror_mode": {
    "name": "ipython",
    "version": 3
   },
   "file_extension": ".py",
   "mimetype": "text/x-python",
   "name": "python",
   "nbconvert_exporter": "python",
   "pygments_lexer": "ipython3",
   "version": "3.10.13"
  }
 },
 "nbformat": 4,
 "nbformat_minor": 2
}
