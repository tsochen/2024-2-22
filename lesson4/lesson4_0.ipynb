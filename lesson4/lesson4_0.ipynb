{
 "cells": [
  {
   "cell_type": "code",
   "execution_count": 2,
   "metadata": {},
   "outputs": [
    {
     "name": "stdout",
     "output_type": "stream",
     "text": [
      "身高:180,體重:100\n",
      "BMI:30.86\n"
     ]
    }
   ],
   "source": [
    "high=eval(input(\"身高cm\"))/100\n",
    "weight=eval(input(\"體重kg\"))\n",
    "bmi=weight/(high**2)\n",
    "print(f\"身高:{high*100:.0f},體重:{weight}\")\n",
    "print(f\"BMI:{bmi:.2f}\")"
   ]
  }
 ],
 "metadata": {
  "kernelspec": {
   "display_name": "Python 3",
   "language": "python",
   "name": "python3"
  },
  "language_info": {
   "codemirror_mode": {
    "name": "ipython",
    "version": 3
   },
   "file_extension": ".py",
   "mimetype": "text/x-python",
   "name": "python",
   "nbconvert_exporter": "python",
   "pygments_lexer": "ipython3",
   "version": "3.10.13"
  }
 },
 "nbformat": 4,
 "nbformat_minor": 2
}
