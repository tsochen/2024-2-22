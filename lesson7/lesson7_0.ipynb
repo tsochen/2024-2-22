{
 "cells": [
  {
   "cell_type": "code",
   "execution_count": null,
   "metadata": {},
   "outputs": [],
   "source": [
    "import pyinputplus as pyip\n",
    "    \n",
    "height:float = pyip.inputFloat('請輸入身高(公分)\\n', greaterThan=0, max=300)\n",
    "\n",
    "weight:float = pyip.inputFloat('請輸入體重(公斤)\\n', greaterThan=0, max=300)\n",
    "\n",
    "bmi:float = weight / (height / 100) ** 2\n",
    "\n",
    "print(f'您的BMI是: {bmi:.1f}')\n",
    "\n",
    "if bmi < 18.5:\n",
    "    msg = '體重過輕'\n",
    "elif bmi < 24:\n",
    "    msg = '正常範圍'\n",
    "elif bmi < 27:\n",
    "    msg = '過重'\n",
    "elif bmi < 30:\n",
    "    msg = '輕度肥胖'\n",
    "elif bmi < 35:\n",
    "    msg = '中度肥胖'\n",
    "else:\n",
    "    msg = '重度肥胖'\n",
    "\n",
    "print(f'您的體重: {msg}')"
   ]
  }
 ],
 "metadata": {
  "kernelspec": {
   "display_name": "Python 3",
   "language": "python",
   "name": "python3"
  },
  "language_info": {
   "name": "python",
   "version": "3.10.13"
  }
 },
 "nbformat": 4,
 "nbformat_minor": 2
}
