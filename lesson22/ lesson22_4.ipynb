{
 "cells": [
  {
   "cell_type": "code",
   "execution_count": null,
   "metadata": {},
   "outputs": [],
   "source": [
    "import os\n",
    "file_names:list[str] = os.listdir('stations')\n",
    "abs_paths:list[str] = []\n",
    "for name in file_names:\n",
    "    if '每日各站進出站人數' in name:\n",
    "        abs_paths.append(os.path.abspath(f'stations/{name}'))\n",
    "    \n",
    "abs_paths"
   ]
  },
  {
   "cell_type": "code",
   "execution_count": null,
   "metadata": {},
   "outputs": [],
   "source": [
    "import pandas as pd\n",
    "from pandas import DataFrame\n",
    "\n",
    "all_df:list[DataFrame] = [pd.read_csv(path) for path in abs_paths]\n",
    "display(all_df)\n"
   ]
  },
  {
   "cell_type": "code",
   "execution_count": null,
   "metadata": {},
   "outputs": [],
   "source": [
    "inOut_df = pd.concat(all_df)\n",
    "inOut_df.columns = ['乘車日','車站代碼','進站人數','出站人數']\n",
    "inOut_df"
   ]
  },
  {
   "cell_type": "code",
   "execution_count": null,
   "metadata": {},
   "outputs": [],
   "source": [
    "import requests\n",
    "url2 = 'https://ods.railway.gov.tw/tra-ods-web/ods/download/dataResource/0518b833e8964d53bfea3f7691aea0ee'\n",
    "response = requests.get(url2)\n",
    "if response.status_code == 200:\n",
    "    station_data = response.json()\n",
    "\n",
    "station_df = pd.DataFrame(station_data,columns=['stationCode','stationName'])\n",
    "station_df.columns = ['車站代碼','中文站名']\n",
    "station_df['車站代碼'] = station_df['車站代碼'].astype(int)\n",
    "station_df"
   ]
  },
  {
   "cell_type": "code",
   "execution_count": null,
   "metadata": {},
   "outputs": [],
   "source": [
    "station_all_df = pd.merge(inOut_df,station_df,on='車站代碼',how='left')\n",
    "station_all_df"
   ]
  },
  {
   "cell_type": "code",
   "execution_count": null,
   "metadata": {},
   "outputs": [],
   "source": [
    "station_all_df.info()"
   ]
  },
  {
   "cell_type": "code",
   "execution_count": null,
   "metadata": {},
   "outputs": [],
   "source": [
    "#移除Na\n",
    "station_all_df1 = station_all_df.dropna()\n",
    "station_all_df1.info()\n"
   ]
  },
  {
   "cell_type": "code",
   "execution_count": null,
   "metadata": {},
   "outputs": [],
   "source": [
    "#乘車日變為datetime\n",
    "station_all_df1['乘車日'] = pd.to_datetime(station_all_df1['乘車日'].astype(str))\n",
    "station_all_df1.info()"
   ]
  },
  {
   "cell_type": "code",
   "execution_count": null,
   "metadata": {},
   "outputs": [],
   "source": [
    "station_all_df2"
   ]
  },
  {
   "cell_type": "code",
   "execution_count": null,
   "metadata": {},
   "outputs": [],
   "source": [
    "station_all_df2.groupby('中文站名')[['進站人數','出站人數']].agg(['sum','max','min'])"
   ]
  },
  {
   "cell_type": "code",
   "execution_count": null,
   "metadata": {},
   "outputs": [],
   "source": [
    "station_array = station_all_df2.values\n",
    "station_array[:,0]"
   ]
  },
  {
   "cell_type": "code",
   "execution_count": null,
   "metadata": {},
   "outputs": [],
   "source": [
    "station_array[:,[0,2,3]]"
   ]
  },
  {
   "cell_type": "code",
   "execution_count": 23,
   "metadata": {},
   "outputs": [
    {
     "name": "stderr",
     "output_type": "stream",
     "text": [
      "/tmp/ipykernel_47535/2084214848.py:1: FutureWarning: The behavior of 'isin' with dtype=datetime64[ns] and castable values (e.g. strings) is deprecated. In a future version, these will not be considered matching by isin. Explicitly cast to the appropriate dtype before calling isin instead.\n",
      "  station_all_df2.query('乘車日==\"2023\"')\n"
     ]
    },
    {
     "data": {
      "text/html": [
       "<div>\n",
       "<style scoped>\n",
       "    .dataframe tbody tr th:only-of-type {\n",
       "        vertical-align: middle;\n",
       "    }\n",
       "\n",
       "    .dataframe tbody tr th {\n",
       "        vertical-align: top;\n",
       "    }\n",
       "\n",
       "    .dataframe thead th {\n",
       "        text-align: right;\n",
       "    }\n",
       "</style>\n",
       "<table border=\"1\" class=\"dataframe\">\n",
       "  <thead>\n",
       "    <tr style=\"text-align: right;\">\n",
       "      <th></th>\n",
       "      <th>乘車日</th>\n",
       "      <th>車站代碼</th>\n",
       "      <th>進站人數</th>\n",
       "      <th>出站人數</th>\n",
       "      <th>中文站名</th>\n",
       "    </tr>\n",
       "  </thead>\n",
       "  <tbody>\n",
       "    <tr>\n",
       "      <th>147238</th>\n",
       "      <td>2023-01-01</td>\n",
       "      <td>6100</td>\n",
       "      <td>19</td>\n",
       "      <td>9</td>\n",
       "      <td>東里</td>\n",
       "    </tr>\n",
       "    <tr>\n",
       "      <th>147213</th>\n",
       "      <td>2023-01-01</td>\n",
       "      <td>5070</td>\n",
       "      <td>344</td>\n",
       "      <td>422</td>\n",
       "      <td>南州</td>\n",
       "    </tr>\n",
       "    <tr>\n",
       "      <th>147214</th>\n",
       "      <td>2023-01-01</td>\n",
       "      <td>5080</td>\n",
       "      <td>18</td>\n",
       "      <td>25</td>\n",
       "      <td>鎮安</td>\n",
       "    </tr>\n",
       "    <tr>\n",
       "      <th>147215</th>\n",
       "      <td>2023-01-01</td>\n",
       "      <td>5090</td>\n",
       "      <td>546</td>\n",
       "      <td>545</td>\n",
       "      <td>林邊</td>\n",
       "    </tr>\n",
       "    <tr>\n",
       "      <th>147216</th>\n",
       "      <td>2023-01-01</td>\n",
       "      <td>5100</td>\n",
       "      <td>126</td>\n",
       "      <td>156</td>\n",
       "      <td>佳冬</td>\n",
       "    </tr>\n",
       "    <tr>\n",
       "      <th>...</th>\n",
       "      <td>...</td>\n",
       "      <td>...</td>\n",
       "      <td>...</td>\n",
       "      <td>...</td>\n",
       "      <td>...</td>\n",
       "    </tr>\n",
       "    <tr>\n",
       "      <th>147140</th>\n",
       "      <td>2023-01-01</td>\n",
       "      <td>3310</td>\n",
       "      <td>1434</td>\n",
       "      <td>1327</td>\n",
       "      <td>五權</td>\n",
       "    </tr>\n",
       "    <tr>\n",
       "      <th>147139</th>\n",
       "      <td>2023-01-01</td>\n",
       "      <td>3300</td>\n",
       "      <td>37255</td>\n",
       "      <td>33837</td>\n",
       "      <td>臺中</td>\n",
       "    </tr>\n",
       "    <tr>\n",
       "      <th>147138</th>\n",
       "      <td>2023-01-01</td>\n",
       "      <td>3290</td>\n",
       "      <td>1222</td>\n",
       "      <td>1224</td>\n",
       "      <td>精武</td>\n",
       "    </tr>\n",
       "    <tr>\n",
       "      <th>147137</th>\n",
       "      <td>2023-01-01</td>\n",
       "      <td>3280</td>\n",
       "      <td>2145</td>\n",
       "      <td>2162</td>\n",
       "      <td>太原</td>\n",
       "    </tr>\n",
       "    <tr>\n",
       "      <th>147142</th>\n",
       "      <td>2023-01-01</td>\n",
       "      <td>3330</td>\n",
       "      <td>799</td>\n",
       "      <td>909</td>\n",
       "      <td>烏日</td>\n",
       "    </tr>\n",
       "  </tbody>\n",
       "</table>\n",
       "<p>238 rows × 5 columns</p>\n",
       "</div>"
      ],
      "text/plain": [
       "              乘車日  車站代碼   進站人數   出站人數 中文站名\n",
       "147238 2023-01-01  6100     19      9   東里\n",
       "147213 2023-01-01  5070    344    422   南州\n",
       "147214 2023-01-01  5080     18     25   鎮安\n",
       "147215 2023-01-01  5090    546    545   林邊\n",
       "147216 2023-01-01  5100    126    156   佳冬\n",
       "...           ...   ...    ...    ...  ...\n",
       "147140 2023-01-01  3310   1434   1327   五權\n",
       "147139 2023-01-01  3300  37255  33837   臺中\n",
       "147138 2023-01-01  3290   1222   1224   精武\n",
       "147137 2023-01-01  3280   2145   2162   太原\n",
       "147142 2023-01-01  3330    799    909   烏日\n",
       "\n",
       "[238 rows x 5 columns]"
      ]
     },
     "execution_count": 23,
     "metadata": {},
     "output_type": "execute_result"
    }
   ],
   "source": [
    "station_all_df2.query('乘車日==\"2023\"')"
   ]
  }
 ],
 "metadata": {
  "kernelspec": {
   "display_name": "Python 3",
   "language": "python",
   "name": "python3"
  },
  "language_info": {
   "codemirror_mode": {
    "name": "ipython",
    "version": 3
   },
   "file_extension": ".py",
   "mimetype": "text/x-python",
   "name": "python",
   "nbconvert_exporter": "python",
   "pygments_lexer": "ipython3",
   "version": "3.10.13"
  }
 },
 "nbformat": 4,
 "nbformat_minor": 2
}
