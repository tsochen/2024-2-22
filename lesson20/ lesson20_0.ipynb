{
 "cells": [
  {
   "cell_type": "code",
   "execution_count": 1,
   "metadata": {},
   "outputs": [
    {
     "data": {
      "text/plain": [
       "['/workspaces/2024-2-22/lesson20/縣市/縣表3-1-712(基隆市).xls',\n",
       " '/workspaces/2024-2-22/lesson20/縣市/縣表3-1-705(雲林縣).xls',\n",
       " '/workspaces/2024-2-22/lesson20/縣市/縣表3-1-711(澎湖縣).xls',\n",
       " '/workspaces/2024-2-22/lesson20/縣市/縣表3-1-713(新竹市).xls',\n",
       " '/workspaces/2024-2-22/lesson20/縣市/縣表3-1-710(臺東縣).xls',\n",
       " '/workspaces/2024-2-22/lesson20/縣市/縣表3-1-708(宜蘭縣).xls',\n",
       " '/workspaces/2024-2-22/lesson20/縣市/縣表3-1-714(嘉義市).xls',\n",
       " '/workspaces/2024-2-22/lesson20/縣市/縣表3-1-701(新竹縣).xls',\n",
       " '/workspaces/2024-2-22/lesson20/縣市/縣表3-1-703(彰化縣).xls',\n",
       " '/workspaces/2024-2-22/lesson20/縣市/縣表3-1-709(花蓮縣).xls',\n",
       " '/workspaces/2024-2-22/lesson20/縣市/縣表3-1-801(金門縣).xls',\n",
       " '/workspaces/2024-2-22/lesson20/縣市/縣表3-1-707(屏東縣).xls',\n",
       " '/workspaces/2024-2-22/lesson20/縣市/縣表3-1-702(苗栗縣).xls',\n",
       " '/workspaces/2024-2-22/lesson20/縣市/縣表3-1-802(連江縣).xls',\n",
       " '/workspaces/2024-2-22/lesson20/縣市/縣表3-1-706(嘉義縣).xls',\n",
       " '/workspaces/2024-2-22/lesson20/縣市/縣表3-1-704(南投縣).xls']"
      ]
     },
     "execution_count": 1,
     "metadata": {},
     "output_type": "execute_result"
    }
   ],
   "source": [
    "\n",
    "import os\n",
    "file_names:list[str] = os.listdir(path='./縣市')\n",
    "all_path_file:list[str] = []\n",
    "for name in file_names:\n",
    "    all_path_file.append(os.path.abspath(f'縣市/{name}'))\n",
    "all_path_file"
   ]
  }
 ],
 "metadata": {
  "kernelspec": {
   "display_name": "Python 3",
   "language": "python",
   "name": "python3"
  },
  "language_info": {
   "codemirror_mode": {
    "name": "ipython",
    "version": 3
   },
   "file_extension": ".py",
   "mimetype": "text/x-python",
   "name": "python",
   "nbconvert_exporter": "python",
   "pygments_lexer": "ipython3",
   "version": "3.10.13"
  }
 },
 "nbformat": 4,
 "nbformat_minor": 2
}
