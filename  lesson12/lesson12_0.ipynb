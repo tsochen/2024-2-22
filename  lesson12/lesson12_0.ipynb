{
 "cells": [
  {
   "cell_type": "code",
   "execution_count": null,
   "metadata": {},
   "outputs": [],
   "source": [
    "from requests import Response\n",
    "import requests\n",
    "import csv\n",
    "from io import StringIO\n",
    "\n",
    "def main():\n",
    "    link = 'https://raw.githubusercontent.com/roberthsu2003/__2024_02_20_2_4__/main/lesson11/students.csv'\n",
    "    try :\n",
    "        down:Response=requests.get(link)\n",
    "        \n",
    "    except:\n",
    "        print(\"Error\")\n",
    "        return\n",
    "    else:\n",
    "      if down.status_code != 200:\n",
    "        print(\"status_code不正確\")\n",
    "        return\n",
    "        \n",
    "    file:str=down.text\n",
    "    b:StringIO=StringIO(file)\n",
    "    cs=csv.DictReader(b)\n",
    "    data:list[dict]=list(cs)\n",
    "    for i in data:\n",
    "        print(i)\n",
    "    \n",
    "main()"
   ]
  }
 ],
 "metadata": {
  "language_info": {
   "name": "python"
  }
 },
 "nbformat": 4,
 "nbformat_minor": 2
}
