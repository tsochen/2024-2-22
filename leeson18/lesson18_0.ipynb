{
 "cells": [
  {
   "cell_type": "code",
   "execution_count": 1,
   "metadata": {},
   "outputs": [
    {
     "name": "stdout",
     "output_type": "stream",
     "text": [
      "<class 'pandas.core.frame.DataFrame'>\n",
      "Index: 368 entries, 新北市板橋區 to 連江縣東引鄉\n",
      "Data columns (total 3 columns):\n",
      " #   Column  Non-Null Count  Dtype  \n",
      "---  ------  --------------  -----  \n",
      " 0   年底人口數   368 non-null    int32  \n",
      " 1   土地面積    368 non-null    float64\n",
      " 2   人口密度    368 non-null    int64  \n",
      "dtypes: float64(1), int32(1), int64(1)\n",
      "memory usage: 10.1+ KB\n"
     ]
    }
   ],
   "source": [
    "import pandas as pd\n",
    "import numpy as np\n",
    "\n",
    "df1 = pd.read_csv('各鄉鎮市區人口密度.csv')\n",
    "df1.columns = df1.iloc[0]\n",
    "df2 = df1.drop(index=0)\n",
    "df3 = df2.dropna()\n",
    "df4 = df3.drop(index=[369, 370])\n",
    "df5 = df4.set_index(['區域別'])\n",
    "df6 = df5.drop(columns=['統計年'])\n",
    "df6['年底人口數'] = pd.to_numeric(df6['年底人口數'], downcast='integer')\n",
    "df6['土地面積'] = df6['土地面積'].values.astype(float)\n",
    "df6['人口密度'] = df6['人口密度'].astype(int)\n",
    "df6.info()"
   ]
  }
 ],
 "metadata": {
  "kernelspec": {
   "display_name": "Python 3",
   "language": "python",
   "name": "python3"
  },
  "language_info": {
   "codemirror_mode": {
    "name": "ipython",
    "version": 3
   },
   "file_extension": ".py",
   "mimetype": "text/x-python",
   "name": "python",
   "nbconvert_exporter": "python",
   "pygments_lexer": "ipython3",
   "version": "3.10.13"
  }
 },
 "nbformat": 4,
 "nbformat_minor": 2
}
